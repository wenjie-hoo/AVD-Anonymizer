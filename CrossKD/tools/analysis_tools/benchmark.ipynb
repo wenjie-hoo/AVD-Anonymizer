{
 "cells": [
  {
   "cell_type": "code",
   "execution_count": 1,
   "id": "785d4564-05bc-4d55-b7b5-42938b8e26d9",
   "metadata": {},
   "outputs": [],
   "source": [
    "import os\n",
    "import sys\n",
    "from mmengine import MMLogger\n",
    "from mmengine.config import Config\n",
    "from mmengine.dist import init_dist\n",
    "from mmengine.registry import init_default_scope\n",
    "from mmengine.utils import mkdir_or_exist\n",
    "from mmdet.utils.benchmark import (DataLoaderBenchmark, DatasetBenchmark, InferenceBenchmark)\n",
    "\n",
    "\n",
    "import mmdet"
   ]
  },
  {
   "cell_type": "code",
   "execution_count": 2,
   "id": "00c467d6-7558-4c7c-bc35-3a1a052de57a",
   "metadata": {
    "scrolled": true
   },
   "outputs": [
    {
     "name": "stdout",
     "output_type": "stream",
     "text": [
      "Python Sys Path:\n",
      "/Ziob/343312/miniconda/envs/crosskd/lib/python38.zip\n",
      "/Ziob/343312/miniconda/envs/crosskd/lib/python3.8\n",
      "/Ziob/343312/miniconda/envs/crosskd/lib/python3.8/lib-dynload\n",
      "\n",
      "/Ziob/343312/miniconda/envs/crosskd/lib/python3.8/site-packages\n",
      "/Ziob/343312/AVD-Anonymizer/CrossKD\n",
      "/tmp/tmppba8n3ob\n"
     ]
    }
   ],
   "source": [
    "import os\n",
    "import sys\n",
    "\n",
    "custom_path = '/Ziob/343312/AVD-Anonymizer/CrossKD'\n",
    "if custom_path not in sys.path:\n",
    "    sys.path.insert(0, custom_path)\n",
    "\n",
    "print(\"Python Sys Path:\")\n",
    "for path in sys.path:\n",
    "    print(path)\n",
    "\n",
    "from mmengine.config import Config\n",
    "from mmdet.utils.benchmark import InferenceBenchmark\n",
    "from mmengine.registry import init_default_scope\n",
    "\n",
    "init_default_scope('mmdet')\n",
    "\n",
    "# Try importing using a path relative to the added sys.path\n",
    "from mmdet.models.detectors import crosskd_fcos\n",
    "CrossKDFCOS = crosskd_fcos.CrossKDFCOS"
   ]
  },
  {
   "cell_type": "code",
   "execution_count": 8,
   "id": "fb723ad4-6444-42fb-88e5-cad396091ca4",
   "metadata": {},
   "outputs": [],
   "source": [
    "config_file = '/Ziob/343312/AVD-Anonymizer/CrossKD/configs/fcos/fcos_r50-caffe_fpn_gn-head_2x_coco.py'\n",
    "checkpoint_path = '/Ziob/343312/AVD-Anonymizer/CrossKD/work_dirs/fcos_r50-caffe_fpn_gn-head_2x_coco/epoch_24.pth'\n",
    "\n",
    "# config_file = '/Ziob/343312/AVD-Anonymizer/CrossKD/configs/crosskd/crosskd_r50_fcos_r101-2x-ms_caffe_fpn_gn-head_2x_ms_coco.py'\n",
    "# checkpoint_path = '/Ziob/343312/AVD-Anonymizer/CrossKD/work_dirs/crosskd_r50_fcos_r101-2x-ms_caffe_fpn_gn-head_2x_ms_coco/epoch_24.pth'\n",
    "\n",
    "cfg = Config.fromfile(config_file)"
   ]
  },
  {
   "cell_type": "code",
   "execution_count": 9,
   "id": "35634816-924c-4d99-bb16-c2e744cd2cef",
   "metadata": {},
   "outputs": [],
   "source": [
    "\n",
    "absolute_data_path = '/Ziob/343312/AVD-Anonymizer/CrossKD/data/pp4av_dataset'\n",
    "\n",
    "if 'test_dataloader' in cfg:\n",
    "    if hasattr(cfg.test_dataloader.dataset, 'data_root'):\n",
    "        cfg.test_dataloader.dataset.data_root = absolute_data_path\n",
    "    # For COCO-style datasets, we also need to update data_prefix if it exists\n",
    "    if hasattr(cfg.test_dataloader.dataset, 'data_prefix'):\n",
    "        if isinstance(cfg.test_dataloader.dataset.data_prefix, dict):\n",
    "            for key in cfg.test_dataloader.dataset.data_prefix:\n",
    "                if key == 'img':\n",
    "                    cfg.test_dataloader.dataset.data_prefix[key] = os.path.join(absolute_data_path, 'val')\n",
    "        else:\n",
    "            cfg.test_dataloader.dataset.data_prefix = os.path.join(absolute_data_path, 'val')\n",
    "    if hasattr(cfg.test_dataloader.dataset, 'ann_file'):\n",
    "        cfg.test_dataloader.dataset.ann_file = os.path.join(absolute_data_path, 'annotations/instances_val.json')\n",
    "\n",
    "\n",
    "init_default_scope(cfg.get('default_scope', 'mmdet'))\n",
    "logger = MMLogger.get_instance('mmdet', log_level='INFO')"
   ]
  },
  {
   "cell_type": "code",
   "execution_count": 10,
   "id": "a37209dc-e772-405d-bbf9-b0878270a65b",
   "metadata": {},
   "outputs": [
    {
     "name": "stdout",
     "output_type": "stream",
     "text": [
      "Task: inference\n",
      "Checkpoint path: /Ziob/343312/AVD-Anonymizer/CrossKD/work_dirs/fcos_r50-caffe_fpn_gn-head_2x_coco/epoch_24.pth\n",
      "Dataset type: test\n",
      "Max iterations: 100\n",
      "Log interval: 20\n",
      "Fuse Conv-BN: True\n",
      "05/26 23:42:56 - mmengine - \u001b[4m\u001b[97mINFO\u001b[0m - before build: \n",
      "05/26 23:42:56 - mmengine - \u001b[4m\u001b[97mINFO\u001b[0m - (GB) mem_used: 12.28 | uss: 0.33 | pss: 0.34 | total_proc: 1\n"
     ]
    },
    {
     "ename": "TypeError",
     "evalue": "class `FCOS` in mmdet/models/detectors/fcos.py: __init__() got an unexpected keyword argument 'pretrained'",
     "output_type": "error",
     "traceback": [
      "\u001b[0;31m---------------------------------------------------------------------------\u001b[0m",
      "\u001b[0;31mTypeError\u001b[0m                                 Traceback (most recent call last)",
      "File \u001b[0;32m/Ziob/343312/miniconda/envs/crosskd/lib/python3.8/site-packages/mmengine/registry/build_functions.py:122\u001b[0m, in \u001b[0;36mbuild_from_cfg\u001b[0;34m(cfg, registry, default_args)\u001b[0m\n\u001b[1;32m    121\u001b[0m \u001b[38;5;28;01melse\u001b[39;00m:\n\u001b[0;32m--> 122\u001b[0m     obj \u001b[38;5;241m=\u001b[39m \u001b[43mobj_cls\u001b[49m\u001b[43m(\u001b[49m\u001b[38;5;241;43m*\u001b[39;49m\u001b[38;5;241;43m*\u001b[39;49m\u001b[43margs\u001b[49m\u001b[43m)\u001b[49m  \u001b[38;5;66;03m# type: ignore\u001b[39;00m\n\u001b[1;32m    124\u001b[0m \u001b[38;5;28;01mif\u001b[39;00m (inspect\u001b[38;5;241m.\u001b[39misclass(obj_cls) \u001b[38;5;129;01mor\u001b[39;00m inspect\u001b[38;5;241m.\u001b[39misfunction(obj_cls)\n\u001b[1;32m    125\u001b[0m         \u001b[38;5;129;01mor\u001b[39;00m inspect\u001b[38;5;241m.\u001b[39mismethod(obj_cls)):\n",
      "\u001b[0;31mTypeError\u001b[0m: __init__() got an unexpected keyword argument 'pretrained'",
      "\nDuring handling of the above exception, another exception occurred:\n",
      "\u001b[0;31mTypeError\u001b[0m                                 Traceback (most recent call last)",
      "Cell \u001b[0;32mIn[10], line 19\u001b[0m\n\u001b[1;32m     16\u001b[0m \u001b[38;5;28mprint\u001b[39m(\u001b[38;5;124mf\u001b[39m\u001b[38;5;124m\"\u001b[39m\u001b[38;5;124mLog interval: \u001b[39m\u001b[38;5;132;01m{\u001b[39;00mlog_interval\u001b[38;5;132;01m}\u001b[39;00m\u001b[38;5;124m\"\u001b[39m)\n\u001b[1;32m     17\u001b[0m \u001b[38;5;28mprint\u001b[39m(\u001b[38;5;124mf\u001b[39m\u001b[38;5;124m\"\u001b[39m\u001b[38;5;124mFuse Conv-BN: \u001b[39m\u001b[38;5;132;01m{\u001b[39;00mfuse_conv_bn\u001b[38;5;132;01m}\u001b[39;00m\u001b[38;5;124m\"\u001b[39m)\n\u001b[0;32m---> 19\u001b[0m benchmark \u001b[38;5;241m=\u001b[39m \u001b[43mInferenceBenchmark\u001b[49m\u001b[43m(\u001b[49m\n\u001b[1;32m     20\u001b[0m \u001b[43m    \u001b[49m\u001b[43mcfg\u001b[49m\u001b[43m,\u001b[49m\n\u001b[1;32m     21\u001b[0m \u001b[43m    \u001b[49m\u001b[43mcheckpoint_path\u001b[49m\u001b[43m,\u001b[49m\n\u001b[1;32m     22\u001b[0m \u001b[43m    \u001b[49m\u001b[43mdistributed\u001b[49m\u001b[43m,\u001b[49m\n\u001b[1;32m     23\u001b[0m \u001b[43m    \u001b[49m\u001b[43mfuse_conv_bn\u001b[49m\u001b[43m,\u001b[49m\n\u001b[1;32m     24\u001b[0m \u001b[43m    \u001b[49m\u001b[43mmax_iter\u001b[49m\u001b[43m,\u001b[49m\n\u001b[1;32m     25\u001b[0m \u001b[43m    \u001b[49m\u001b[43mlog_interval\u001b[49m\u001b[43m,\u001b[49m\n\u001b[1;32m     26\u001b[0m \u001b[43m    \u001b[49m\u001b[43mnum_warmup\u001b[49m\u001b[43m,\u001b[49m\n\u001b[1;32m     27\u001b[0m \u001b[43m    \u001b[49m\u001b[43mlogger\u001b[49m\u001b[38;5;241;43m=\u001b[39;49m\u001b[43mlogger\u001b[49m\n\u001b[1;32m     28\u001b[0m \u001b[43m)\u001b[49m\n\u001b[1;32m     30\u001b[0m results \u001b[38;5;241m=\u001b[39m benchmark\u001b[38;5;241m.\u001b[39mrun(repeat_num)\n\u001b[1;32m     32\u001b[0m \u001b[38;5;28mprint\u001b[39m(\u001b[38;5;124m\"\u001b[39m\u001b[38;5;130;01m\\n\u001b[39;00m\u001b[38;5;124mDetailed Benchmark Results:\u001b[39m\u001b[38;5;124m\"\u001b[39m)\n",
      "File \u001b[0;32m/Ziob/343312/AVD-Anonymizer/CrossKD/mmdet/utils/benchmark.py:164\u001b[0m, in \u001b[0;36mInferenceBenchmark.__init__\u001b[0;34m(self, cfg, checkpoint, distributed, is_fuse_conv_bn, max_iter, log_interval, num_warmup, logger)\u001b[0m\n\u001b[1;32m    161\u001b[0m print_process_memory(\u001b[38;5;28mself\u001b[39m\u001b[38;5;241m.\u001b[39m_process, \u001b[38;5;28mself\u001b[39m\u001b[38;5;241m.\u001b[39mlogger)\n\u001b[1;32m    163\u001b[0m \u001b[38;5;28mself\u001b[39m\u001b[38;5;241m.\u001b[39mcfg\u001b[38;5;241m.\u001b[39mmodel\u001b[38;5;241m.\u001b[39mpretrained \u001b[38;5;241m=\u001b[39m \u001b[38;5;28;01mNone\u001b[39;00m\n\u001b[0;32m--> 164\u001b[0m \u001b[38;5;28mself\u001b[39m\u001b[38;5;241m.\u001b[39mmodel \u001b[38;5;241m=\u001b[39m \u001b[38;5;28;43mself\u001b[39;49m\u001b[38;5;241;43m.\u001b[39;49m\u001b[43m_init_model\u001b[49m\u001b[43m(\u001b[49m\u001b[43mcheckpoint\u001b[49m\u001b[43m,\u001b[49m\u001b[43m \u001b[49m\u001b[43mis_fuse_conv_bn\u001b[49m\u001b[43m)\u001b[49m\n\u001b[1;32m    166\u001b[0m \u001b[38;5;66;03m# Because multiple processes will occupy additional CPU resources,\u001b[39;00m\n\u001b[1;32m    167\u001b[0m \u001b[38;5;66;03m# FPS statistics will be more unstable when num_workers is not 0.\u001b[39;00m\n\u001b[1;32m    168\u001b[0m \u001b[38;5;66;03m# It is reasonable to set num_workers to 0.\u001b[39;00m\n\u001b[1;32m    169\u001b[0m dataloader_cfg \u001b[38;5;241m=\u001b[39m cfg\u001b[38;5;241m.\u001b[39mtest_dataloader\n",
      "File \u001b[0;32m/Ziob/343312/AVD-Anonymizer/CrossKD/mmdet/utils/benchmark.py:180\u001b[0m, in \u001b[0;36mInferenceBenchmark._init_model\u001b[0;34m(self, checkpoint, is_fuse_conv_bn)\u001b[0m\n\u001b[1;32m    178\u001b[0m \u001b[38;5;28;01mdef\u001b[39;00m\u001b[38;5;250m \u001b[39m\u001b[38;5;21m_init_model\u001b[39m(\u001b[38;5;28mself\u001b[39m, checkpoint: \u001b[38;5;28mstr\u001b[39m, is_fuse_conv_bn: \u001b[38;5;28mbool\u001b[39m) \u001b[38;5;241m-\u001b[39m\u001b[38;5;241m>\u001b[39m nn\u001b[38;5;241m.\u001b[39mModule:\n\u001b[1;32m    179\u001b[0m \u001b[38;5;250m    \u001b[39m\u001b[38;5;124;03m\"\"\"Initialize the model.\"\"\"\u001b[39;00m\n\u001b[0;32m--> 180\u001b[0m     model \u001b[38;5;241m=\u001b[39m \u001b[43mMODELS\u001b[49m\u001b[38;5;241;43m.\u001b[39;49m\u001b[43mbuild\u001b[49m\u001b[43m(\u001b[49m\u001b[38;5;28;43mself\u001b[39;49m\u001b[38;5;241;43m.\u001b[39;49m\u001b[43mcfg\u001b[49m\u001b[38;5;241;43m.\u001b[39;49m\u001b[43mmodel\u001b[49m\u001b[43m)\u001b[49m\n\u001b[1;32m    181\u001b[0m     \u001b[38;5;66;03m# TODO need update\u001b[39;00m\n\u001b[1;32m    182\u001b[0m     \u001b[38;5;66;03m# fp16_cfg = self.cfg.get('fp16', None)\u001b[39;00m\n\u001b[1;32m    183\u001b[0m     \u001b[38;5;66;03m# if fp16_cfg is not None:\u001b[39;00m\n\u001b[1;32m    184\u001b[0m     \u001b[38;5;66;03m#     wrap_fp16_model(model)\u001b[39;00m\n\u001b[1;32m    186\u001b[0m     load_checkpoint(model, checkpoint, map_location\u001b[38;5;241m=\u001b[39m\u001b[38;5;124m'\u001b[39m\u001b[38;5;124mcpu\u001b[39m\u001b[38;5;124m'\u001b[39m)\n",
      "File \u001b[0;32m/Ziob/343312/miniconda/envs/crosskd/lib/python3.8/site-packages/mmengine/registry/registry.py:548\u001b[0m, in \u001b[0;36mRegistry.build\u001b[0;34m(self, cfg, *args, **kwargs)\u001b[0m\n\u001b[1;32m    526\u001b[0m \u001b[38;5;28;01mdef\u001b[39;00m\u001b[38;5;250m \u001b[39m\u001b[38;5;21mbuild\u001b[39m(\u001b[38;5;28mself\u001b[39m, cfg: \u001b[38;5;28mdict\u001b[39m, \u001b[38;5;241m*\u001b[39margs, \u001b[38;5;241m*\u001b[39m\u001b[38;5;241m*\u001b[39mkwargs) \u001b[38;5;241m-\u001b[39m\u001b[38;5;241m>\u001b[39m Any:\n\u001b[1;32m    527\u001b[0m \u001b[38;5;250m    \u001b[39m\u001b[38;5;124;03m\"\"\"Build an instance.\u001b[39;00m\n\u001b[1;32m    528\u001b[0m \n\u001b[1;32m    529\u001b[0m \u001b[38;5;124;03m    Build an instance by calling :attr:`build_func`.\u001b[39;00m\n\u001b[0;32m   (...)\u001b[0m\n\u001b[1;32m    546\u001b[0m \u001b[38;5;124;03m        >>> model = MODELS.build(cfg)\u001b[39;00m\n\u001b[1;32m    547\u001b[0m \u001b[38;5;124;03m    \"\"\"\u001b[39;00m\n\u001b[0;32m--> 548\u001b[0m     \u001b[38;5;28;01mreturn\u001b[39;00m \u001b[38;5;28;43mself\u001b[39;49m\u001b[38;5;241;43m.\u001b[39;49m\u001b[43mbuild_func\u001b[49m\u001b[43m(\u001b[49m\u001b[43mcfg\u001b[49m\u001b[43m,\u001b[49m\u001b[43m \u001b[49m\u001b[38;5;241;43m*\u001b[39;49m\u001b[43margs\u001b[49m\u001b[43m,\u001b[49m\u001b[43m \u001b[49m\u001b[38;5;241;43m*\u001b[39;49m\u001b[38;5;241;43m*\u001b[39;49m\u001b[43mkwargs\u001b[49m\u001b[43m,\u001b[49m\u001b[43m \u001b[49m\u001b[43mregistry\u001b[49m\u001b[38;5;241;43m=\u001b[39;49m\u001b[38;5;28;43mself\u001b[39;49m\u001b[43m)\u001b[49m\n",
      "File \u001b[0;32m/Ziob/343312/miniconda/envs/crosskd/lib/python3.8/site-packages/mmengine/registry/build_functions.py:250\u001b[0m, in \u001b[0;36mbuild_model_from_cfg\u001b[0;34m(cfg, registry, default_args)\u001b[0m\n\u001b[1;32m    248\u001b[0m     \u001b[38;5;28;01mreturn\u001b[39;00m Sequential(\u001b[38;5;241m*\u001b[39mmodules)\n\u001b[1;32m    249\u001b[0m \u001b[38;5;28;01melse\u001b[39;00m:\n\u001b[0;32m--> 250\u001b[0m     \u001b[38;5;28;01mreturn\u001b[39;00m \u001b[43mbuild_from_cfg\u001b[49m\u001b[43m(\u001b[49m\u001b[43mcfg\u001b[49m\u001b[43m,\u001b[49m\u001b[43m \u001b[49m\u001b[43mregistry\u001b[49m\u001b[43m,\u001b[49m\u001b[43m \u001b[49m\u001b[43mdefault_args\u001b[49m\u001b[43m)\u001b[49m\n",
      "File \u001b[0;32m/Ziob/343312/miniconda/envs/crosskd/lib/python3.8/site-packages/mmengine/registry/build_functions.py:144\u001b[0m, in \u001b[0;36mbuild_from_cfg\u001b[0;34m(cfg, registry, default_args)\u001b[0m\n\u001b[1;32m    140\u001b[0m \u001b[38;5;28;01mexcept\u001b[39;00m \u001b[38;5;167;01mException\u001b[39;00m \u001b[38;5;28;01mas\u001b[39;00m e:\n\u001b[1;32m    141\u001b[0m     \u001b[38;5;66;03m# Normal TypeError does not print class name.\u001b[39;00m\n\u001b[1;32m    142\u001b[0m     cls_location \u001b[38;5;241m=\u001b[39m \u001b[38;5;124m'\u001b[39m\u001b[38;5;124m/\u001b[39m\u001b[38;5;124m'\u001b[39m\u001b[38;5;241m.\u001b[39mjoin(\n\u001b[1;32m    143\u001b[0m         obj_cls\u001b[38;5;241m.\u001b[39m\u001b[38;5;18m__module__\u001b[39m\u001b[38;5;241m.\u001b[39msplit(\u001b[38;5;124m'\u001b[39m\u001b[38;5;124m.\u001b[39m\u001b[38;5;124m'\u001b[39m))  \u001b[38;5;66;03m# type: ignore\u001b[39;00m\n\u001b[0;32m--> 144\u001b[0m     \u001b[38;5;28;01mraise\u001b[39;00m \u001b[38;5;28mtype\u001b[39m(e)(\n\u001b[1;32m    145\u001b[0m         \u001b[38;5;124mf\u001b[39m\u001b[38;5;124m'\u001b[39m\u001b[38;5;124mclass `\u001b[39m\u001b[38;5;132;01m{\u001b[39;00mobj_cls\u001b[38;5;241m.\u001b[39m\u001b[38;5;18m__name__\u001b[39m\u001b[38;5;132;01m}\u001b[39;00m\u001b[38;5;124m` in \u001b[39m\u001b[38;5;124m'\u001b[39m  \u001b[38;5;66;03m# type: ignore\u001b[39;00m\n\u001b[1;32m    146\u001b[0m         \u001b[38;5;124mf\u001b[39m\u001b[38;5;124m'\u001b[39m\u001b[38;5;132;01m{\u001b[39;00mcls_location\u001b[38;5;132;01m}\u001b[39;00m\u001b[38;5;124m.py: \u001b[39m\u001b[38;5;132;01m{\u001b[39;00me\u001b[38;5;132;01m}\u001b[39;00m\u001b[38;5;124m'\u001b[39m)\n",
      "\u001b[0;31mTypeError\u001b[0m: class `FCOS` in mmdet/models/detectors/fcos.py: __init__() got an unexpected keyword argument 'pretrained'"
     ]
    }
   ],
   "source": [
    "task = \"inference\" \n",
    "repeat_num = 1\n",
    "max_iter = 100  \n",
    "log_interval = 20\n",
    "num_warmup = 5\n",
    "dataset_type = \"test\"\n",
    "\n",
    "#  Enable conv-bn fusion for potentially faster inference\n",
    "fuse_conv_bn = True\n",
    "distributed = False\n",
    "\n",
    "print(f\"Task: {task}\")\n",
    "print(f\"Checkpoint path: {checkpoint_path}\")\n",
    "print(f\"Dataset type: {dataset_type}\")\n",
    "print(f\"Max iterations: {max_iter}\")\n",
    "print(f\"Log interval: {log_interval}\")\n",
    "print(f\"Fuse Conv-BN: {fuse_conv_bn}\")\n",
    "\n",
    "benchmark = InferenceBenchmark(\n",
    "    cfg,\n",
    "    checkpoint_path,\n",
    "    distributed,\n",
    "    fuse_conv_bn,\n",
    "    max_iter,\n",
    "    log_interval,\n",
    "    num_warmup,\n",
    "    logger=logger\n",
    ")\n",
    "\n",
    "results = benchmark.run(repeat_num)\n",
    "\n",
    "print(\"\\nDetailed Benchmark Results:\")\n",
    "if hasattr(results, 'items'):\n",
    "    for key, value in results.items():\n",
    "        print(f\"{key}: {value}\")\n",
    "else:\n",
    "    print(results)"
   ]
  },
  {
   "cell_type": "code",
   "execution_count": 40,
   "id": "5768d4a7",
   "metadata": {
    "scrolled": true
   },
   "outputs": [
    {
     "name": "stdout",
     "output_type": "stream",
     "text": [
      "Task: inference\n",
      "Checkpoint path: /Ziob/343312/AVD-Anonymizer/CrossKD/work_dirs/crosskd_r50_fcos_r101-2x-ms_caffe_fpn_gn-head_2x_ms_coco/epoch_24.pth\n",
      "Dataset type: test\n",
      "Max iterations: 100\n",
      "Log interval: 20\n",
      "Fuse Conv-BN: True\n"
     ]
    },
    {
     "ename": "NameError",
     "evalue": "name 'nn' is not defined",
     "output_type": "error",
     "traceback": [
      "\u001b[0;31m---------------------------------------------------------------------------\u001b[0m",
      "\u001b[0;31mNameError\u001b[0m                                 Traceback (most recent call last)",
      "Cell \u001b[0;32mIn[40], line 21\u001b[0m\n\u001b[1;32m     16\u001b[0m \u001b[38;5;28mprint\u001b[39m(\u001b[38;5;124mf\u001b[39m\u001b[38;5;124m\"\u001b[39m\u001b[38;5;124mFuse Conv-BN: \u001b[39m\u001b[38;5;132;01m{\u001b[39;00mfuse_conv_bn\u001b[38;5;132;01m}\u001b[39;00m\u001b[38;5;124m\"\u001b[39m)\n\u001b[1;32m     18\u001b[0m \u001b[38;5;66;03m# Fix for the pretrained parameter issue\u001b[39;00m\n\u001b[1;32m     19\u001b[0m \u001b[38;5;66;03m# Let's create a custom InferenceBenchmark class that fixes the issue\u001b[39;00m\n\u001b[0;32m---> 21\u001b[0m \u001b[38;5;28;01mclass\u001b[39;00m\u001b[38;5;250m \u001b[39m\u001b[38;5;21;01mCustomInferenceBenchmark\u001b[39;00m(InferenceBenchmark):\n\u001b[1;32m     22\u001b[0m     \u001b[38;5;28;01mdef\u001b[39;00m\u001b[38;5;250m \u001b[39m\u001b[38;5;21m_init_model\u001b[39m(\u001b[38;5;28mself\u001b[39m, checkpoint: \u001b[38;5;28mstr\u001b[39m, is_fuse_conv_bn: \u001b[38;5;28mbool\u001b[39m) \u001b[38;5;241m-\u001b[39m\u001b[38;5;241m>\u001b[39m nn\u001b[38;5;241m.\u001b[39mModule:\n\u001b[1;32m     23\u001b[0m \u001b[38;5;250m        \u001b[39m\u001b[38;5;124;03m\"\"\"Initialize the model with the pretrained parameter removed.\"\"\"\u001b[39;00m\n",
      "Cell \u001b[0;32mIn[40], line 22\u001b[0m, in \u001b[0;36mCustomInferenceBenchmark\u001b[0;34m()\u001b[0m\n\u001b[1;32m     21\u001b[0m \u001b[38;5;28;01mclass\u001b[39;00m\u001b[38;5;250m \u001b[39m\u001b[38;5;21;01mCustomInferenceBenchmark\u001b[39;00m(InferenceBenchmark):\n\u001b[0;32m---> 22\u001b[0m     \u001b[38;5;28;01mdef\u001b[39;00m\u001b[38;5;250m \u001b[39m\u001b[38;5;21m_init_model\u001b[39m(\u001b[38;5;28mself\u001b[39m, checkpoint: \u001b[38;5;28mstr\u001b[39m, is_fuse_conv_bn: \u001b[38;5;28mbool\u001b[39m) \u001b[38;5;241m-\u001b[39m\u001b[38;5;241m>\u001b[39m \u001b[43mnn\u001b[49m\u001b[38;5;241m.\u001b[39mModule:\n\u001b[1;32m     23\u001b[0m \u001b[38;5;250m        \u001b[39m\u001b[38;5;124;03m\"\"\"Initialize the model with the pretrained parameter removed.\"\"\"\u001b[39;00m\n\u001b[1;32m     24\u001b[0m         \u001b[38;5;66;03m# Make a copy of the model config to avoid side effects\u001b[39;00m\n",
      "\u001b[0;31mNameError\u001b[0m: name 'nn' is not defined"
     ]
    }
   ],
   "source": [
    "task = \"inference\" \n",
    "repeat_num = 1\n",
    "max_iter = 100  \n",
    "log_interval = 20\n",
    "num_warmup = 5\n",
    "dataset_type = \"test\"\n",
    "#  Enable conv-bn fusion for potentially faster inference\n",
    "fuse_conv_bn = True\n",
    "distributed = False\n",
    "\n",
    "print(f\"Task: {task}\")\n",
    "print(f\"Checkpoint path: {checkpoint_path}\")\n",
    "print(f\"Dataset type: {dataset_type}\")\n",
    "print(f\"Max iterations: {max_iter}\")\n",
    "print(f\"Log interval: {log_interval}\")\n",
    "print(f\"Fuse Conv-BN: {fuse_conv_bn}\")\n",
    "\n",
    "# Fix for the pretrained parameter issue\n",
    "# Let's create a custom InferenceBenchmark class that fixes the issue\n",
    "\n",
    "class CustomInferenceBenchmark(InferenceBenchmark):\n",
    "    def _init_model(self, checkpoint: str, is_fuse_conv_bn: bool) -> nn.Module:\n",
    "        \"\"\"Initialize the model with the pretrained parameter removed.\"\"\"\n",
    "        # Make a copy of the model config to avoid side effects\n",
    "        model_cfg = copy.deepcopy(self.cfg.model)\n",
    "        \n",
    "        # Remove the pretrained parameter if it exists\n",
    "        if hasattr(model_cfg, 'pretrained'):\n",
    "            delattr(model_cfg, 'pretrained')\n",
    "        elif isinstance(model_cfg, dict) and 'pretrained' in model_cfg:\n",
    "            del model_cfg['pretrained']\n",
    "            \n",
    "        # Build the model without the pretrained parameter\n",
    "        model = MODELS.build(model_cfg)\n",
    "        \n",
    "        # Load checkpoint if provided\n",
    "        if checkpoint:\n",
    "            load_checkpoint(model, checkpoint, map_location='cpu')\n",
    "        \n",
    "        # Apply fuse_conv_bn if specified\n",
    "        if is_fuse_conv_bn:\n",
    "            model = fuse_conv_bn_eval(model)\n",
    "            \n",
    "        model.eval()\n",
    "        return model\n",
    "\n",
    "# Use our custom benchmark class\n",
    "benchmark = CustomInferenceBenchmark(\n",
    "    cfg,  # Use the original config - our custom class will handle the pretrained parameter\n",
    "    checkpoint_path,\n",
    "    distributed,\n",
    "    fuse_conv_bn,\n",
    "    max_iter,\n",
    "    log_interval,\n",
    "    num_warmup,\n",
    "    logger=logger\n",
    ")\n",
    "\n",
    "results = benchmark.run(repeat_num)\n",
    "print(\"\\nDetailed Benchmark Results:\")\n",
    "if hasattr(results, 'items'):\n",
    "    for key, value in results.items():\n",
    "        print(f\"{key}: {value}\")\n",
    "else:\n",
    "    print(results)"
   ]
  }
 ],
 "metadata": {
  "kernelspec": {
   "display_name": "crosskd",
   "language": "python",
   "name": "crosskd"
  },
  "language_info": {
   "codemirror_mode": {
    "name": "ipython",
    "version": 3
   },
   "file_extension": ".py",
   "mimetype": "text/x-python",
   "name": "python",
   "nbconvert_exporter": "python",
   "pygments_lexer": "ipython3",
   "version": "3.8.20"
  }
 },
 "nbformat": 4,
 "nbformat_minor": 5
}
