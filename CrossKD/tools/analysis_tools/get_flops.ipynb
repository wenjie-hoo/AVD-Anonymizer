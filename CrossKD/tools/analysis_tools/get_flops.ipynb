{
 "cells": [
  {
   "cell_type": "code",
   "execution_count": 14,
   "id": "948f9c06",
   "metadata": {},
   "outputs": [],
   "source": [
    "import argparse\n",
    "import tempfile\n",
    "from functools import partial\n",
    "from pathlib import Path\n",
    "\n",
    "import torch\n",
    "from mmengine.config import Config, DictAction\n",
    "from mmengine.logging import MMLogger\n",
    "from mmengine.model import revert_sync_batchnorm\n",
    "from mmengine.registry import init_default_scope\n",
    "from mmengine.runner import Runner\n",
    "\n",
    "from mmdet.registry import MODELS"
   ]
  },
  {
   "cell_type": "code",
   "execution_count": 19,
   "id": "29c26847",
   "metadata": {
    "scrolled": false
   },
   "outputs": [
    {
     "name": "stderr",
     "output_type": "stream",
     "text": [
      "/Ziob/343312/miniconda/envs/crosskd/lib/python3.8/site-packages/torch/nn/functional.py:2515: UserWarning: __floordiv__ is deprecated, and its behavior will change in a future version of pytorch. It currently rounds toward 0 (like the 'trunc' function NOT 'floor'). This results in incorrect rounding for negative values. To keep the current behavior, use torch.div(a, b, rounding_mode='trunc'), or for actual floor division, use torch.div(a, b, rounding_mode='floor').\n",
      "  _verify_batch_size([input.size(0) * input.size(1) // num_groups, num_groups] + list(input.size()[2:]))\n",
      "Unsupported operator aten::max_pool2d encountered 1 time(s)\n",
      "Unsupported operator aten::add_ encountered 58 time(s)\n",
      "Unsupported operator aten::add encountered 3 time(s)\n",
      "Unsupported operator aten::mul encountered 5 time(s)\n",
      "Unsupported operator aten::exp encountered 5 time(s)\n",
      "The following submodules of the model were never called during the trace of the graph. They may be unused, or they were accessed by direct calls to .forward() or via other python methods. In the latter case they will have zeros for statistics, though their statistics will still contribute to their parent calling module.\n",
      "bbox_head.loss_bbox, bbox_head.loss_centerness, bbox_head.loss_cls, data_preprocessor\n"
     ]
    },
    {
     "name": "stdout",
     "output_type": "stream",
     "text": [
      "Total FLOPs: 216.85 GFLOPs\n"
     ]
    }
   ],
   "source": [
    "cfg = Config.fromfile('/Ziob/343312/AVD-Anonymizer/CrossKD/configs/fcos/fcos_r50-caffe_fpn_gn-head_2x_coco.py')\n",
    "cfg.model.pop('data_preprocessor', None)  \n",
    "model = MODELS.build(cfg.model)\n",
    "\n",
    "inputs = torch.randn(1, 3, 640, 640)\n",
    "\n",
    "flops = FlopCountAnalysis(model, inputs)\n",
    "print(f\"Total FLOPs: {flops.total()/1e9:.2f} GFLOPs\")\n"
   ]
  }
 ],
 "metadata": {
  "kernelspec": {
   "display_name": "crosskd",
   "language": "python",
   "name": "crosskd"
  },
  "language_info": {
   "codemirror_mode": {
    "name": "ipython",
    "version": 3
   },
   "file_extension": ".py",
   "mimetype": "text/x-python",
   "name": "python",
   "nbconvert_exporter": "python",
   "pygments_lexer": "ipython3",
   "version": "3.8.20"
  }
 },
 "nbformat": 4,
 "nbformat_minor": 5
}
